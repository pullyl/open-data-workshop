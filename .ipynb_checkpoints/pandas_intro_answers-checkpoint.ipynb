{
 "cells": [
  {
   "cell_type": "markdown",
   "metadata": {},
   "source": [
    "This is a simple Python notebook demonstrating the power of pandas"
   ]
  },
  {
   "cell_type": "code",
   "execution_count": 1,
   "metadata": {},
   "outputs": [
    {
     "name": "stdout",
     "output_type": "stream",
     "text": [
      "Imported 392744 rows\n"
     ]
    }
   ],
   "source": [
    "import pandas as pd\n",
    "\n",
    "df = pd.read_csv('2018_General_Election_Returns.csv')\n",
    "\n",
    "len_df = len(df)\n",
    "\n",
    "print(f'Imported {len_df} rows')"
   ]
  },
  {
   "cell_type": "code",
   "execution_count": 2,
   "metadata": {},
   "outputs": [
    {
     "name": "stdout",
     "output_type": "stream",
     "text": [
      "Found 173 offices\n"
     ]
    }
   ],
   "source": [
    "#printing all offices\n",
    "offices = list(df['Office'].drop_duplicates())\n",
    "num_offices = len(offices)\n",
    "print(f'Found {num_offices} offices')"
   ]
  },
  {
   "cell_type": "code",
   "execution_count": 3,
   "metadata": {},
   "outputs": [
    {
     "name": "stdout",
     "output_type": "stream",
     "text": [
      "Total votes: Cruz, O'Rourke, Dikeman\n",
      "Total votes: 8369175\n"
     ]
    }
   ],
   "source": [
    "#Finding results for first office\n",
    "first_office = offices[0]\n",
    "\n",
    "office_df = df[df['Office'] == first_office]\n",
    "\n",
    "#Printing who ran in that office\n",
    "candidates = ', '.join(list(office_df['Name'].drop_duplicates()))\n",
    "print(f'Total votes: {candidates}')\n",
    "\n",
    "#Printing total votes\n",
    "total_votes = office_df['Votes'].sum()\n",
    "print(f'Total votes: {total_votes}')"
   ]
  },
  {
   "cell_type": "code",
   "execution_count": 4,
   "metadata": {},
   "outputs": [
    {
     "name": "stdout",
     "output_type": "stream",
     "text": [
      "U.S. Sen, U.S. Rep 5, Governor, Lt. Governor, Attorney Gen, Comptroller, Land Comm, Ag Comm, RR Comm 1, Sup Ct 2, Sup Ct 4, Sup Ct 6, CCA Pres Judge, CCA 7, CCA 8, State Sen 3, State Rep 8, U.S. Rep 11, State Sen 31, State Rep 81, U.S. Rep 1, State Rep 57, U.S. Rep 27, SBOE 2, State Rep 30, U.S. Rep 13, State Sen 30, State Rep 88, U.S. Rep 28, U.S. Rep 10, State Rep 13, U.S. Rep 19, U.S. Rep 21, State Rep 53, U.S. Rep 17, State Sen 14, State Rep 17, U.S. Rep 34, State Rep 43, U.S. Rep 31, U.S. Rep 25, State Rep 54, U.S. Rep 35, U.S. Rep 23, U.S. Rep 20, State Sen 25, State Rep 124, State Rep 118, State Rep 117, State Rep 125, State Rep 116, State Rep 122, State Rep 121, State Rep 120, State Rep 45, State Rep 83, U.S. Rep 4, U.S. Rep 14, U.S. Rep 22, SBOE 7, State Sen 17, State Rep 29, State Sen 5, State Rep 12, State Rep 14, U.S. Rep 15, State Rep 20, State Rep 5, U.S. Rep 36, State Rep 23, State Rep 11, U.S. Rep 3, U.S. Rep 32, SBOE 12, State Sen 8, State Rep 70, State Rep 67, State Rep 89, State Rep 33, State Rep 66, State Rep 73, State Rep 82, State Rep 86, U.S. Rep 30, U.S. Rep 24, U.S. Rep 26, U.S. Rep 33, SBOE 13, SBOE 11, State Sen 16, State Sen 2, State Sen 9, State Rep 114, State Rep 108, State Rep 103, State Rep 102, State Rep 112, State Rep 107, State Rep 113, State Rep 115, State Rep 105, State Rep 62, State Rep 64, State Rep 106, State Rep 65, State Rep 63, U.S. Rep 6, State Rep 10, U.S. Rep 16, State Rep 78, U.S. Rep 9, State Rep 26, State Rep 85, State Rep 28, State Rep 24, U.S. Rep 8, State Rep 44, State Rep 19, U.S. Rep 18, U.S. Rep 7, U.S. Rep 29, U.S. Rep 2, State Sen 15, State Sen 7, State Rep 145, State Rep 147, State Rep 148, State Rep 150, State Rep 146, State Rep 134, State Rep 130, State Rep 135, State Rep 138, State Rep 144, State Rep 139, State Rep 129, State Rep 126, State Rep 133, State Rep 127, State Rep 132, State Rep 131, State Rep 137, State Rep 149, State Rep 4, State Rep 41, State Rep 2, State Rep 71, State Rep 18, State Rep 84, State Rep 56, State Rep 16, State Rep 15, State Rep 3, State Rep 34, U.S. Rep 12, State Rep 6, State Sen 10, State Rep 95, State Rep 97, State Rep 96, State Rep 99, State Rep 93, State Rep 92, State Rep 101, State Rep 94, State Rep 98, State Rep 91, State Rep 46, State Rep 49, State Rep 47, State Rep 42, State Rep 52, State Rep 136\n",
      "Sessions, Allred, Baker\n"
     ]
    }
   ],
   "source": [
    "#Print list of all of the offices\n",
    "print(', '.join(offices))\n",
    "\n",
    "#Pick an office and list the candidates running for that office\n",
    "my_office_df = df[df['Office'] == 'U.S. Rep 32']\n",
    "print(', '.join(list(my_office_df['Name'].drop_duplicates())))"
   ]
  }
 ],
 "metadata": {
  "kernelspec": {
   "display_name": "Python 3",
   "language": "python",
   "name": "python3"
  },
  "language_info": {
   "codemirror_mode": {
    "name": "ipython",
    "version": 3
   },
   "file_extension": ".py",
   "mimetype": "text/x-python",
   "name": "python",
   "nbconvert_exporter": "python",
   "pygments_lexer": "ipython3",
   "version": "3.6.1"
  }
 },
 "nbformat": 4,
 "nbformat_minor": 2
}
