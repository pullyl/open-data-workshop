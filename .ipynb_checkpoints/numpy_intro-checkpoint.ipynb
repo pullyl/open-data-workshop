{
 "cells": [
  {
   "cell_type": "markdown",
   "metadata": {},
   "source": [
    "This is a simple Python notebook demonstrating the power of numpy"
   ]
  },
  {
   "cell_type": "code",
   "execution_count": 1,
   "metadata": {},
   "outputs": [
    {
     "name": "stdout",
     "output_type": "stream",
     "text": [
      "Imported 392744 rows\n"
     ]
    }
   ],
   "source": [
    "import pandas as pd\n",
    "import numpy as np\n",
    "\n",
    "df = pd.read_csv('2018_General_Election_Returns.csv')\n",
    "\n",
    "len_df = len(df)\n",
    "\n",
    "print(f'Imported {len_df} rows')"
   ]
  },
  {
   "cell_type": "code",
   "execution_count": 9,
   "metadata": {},
   "outputs": [
    {
     "name": "stdout",
     "output_type": "stream",
     "text": [
      "13295\n"
     ]
    }
   ],
   "source": [
    "def is_state_house(x):\n",
    "    if 'State Rep' in x:\n",
    "        return True\n",
    "\n",
    "    return False\n",
    "\n",
    "#Finding results for state house\n",
    "df['is_state_house'] = df['Office'].apply(lambda x: is_state_house(x))\n",
    "office_df = df[df['is_state_house'] == True]\n",
    "print(len(office_df))"
   ]
  },
  {
   "cell_type": "code",
   "execution_count": 22,
   "metadata": {},
   "outputs": [
    {
     "name": "stdout",
     "output_type": "stream",
     "text": [
      "['County', 'FIPS', 'VTD', 'cntyvtd', 'Office', 'Name', 'Party', 'Incumbent', 'Votes', 'is_state_house']\n"
     ]
    }
   ],
   "source": [
    "print(list(office_df))\n",
    "rolled = office_df.groupby('Office').sum().reset_index()[['Office', 'Votes']]\n",
    "rolled = rolled.sort_values(by='Office')"
   ]
  },
  {
   "cell_type": "code",
   "execution_count": 31,
   "metadata": {},
   "outputs": [
    {
     "name": "stdout",
     "output_type": "stream",
     "text": [
      "104\n",
      "Median is 56904.5\n",
      "Mean is 58449.03846153846\n",
      "Max is 105551\n",
      "Min is 19954\n"
     ]
    }
   ],
   "source": [
    "#Perform some calculations on state house votes\n",
    "print(len(rolled))\n",
    "print('Median is {med}'.format(med=np.median(rolled['Votes'])))\n",
    "print('Mean is {med}'.format(med=np.mean(rolled['Votes'])))      \n",
    "print('Max is {med}'.format(med=np.max(rolled['Votes'])))      \n",
    "print('Min is {med}'.format(med=np.min(rolled['Votes'])))"
   ]
  },
  {
   "cell_type": "code",
   "execution_count": null,
   "metadata": {},
   "outputs": [],
   "source": []
  }
 ],
 "metadata": {
  "kernelspec": {
   "display_name": "Python 3",
   "language": "python",
   "name": "python3"
  },
  "language_info": {
   "codemirror_mode": {
    "name": "ipython",
    "version": 3
   },
   "file_extension": ".py",
   "mimetype": "text/x-python",
   "name": "python",
   "nbconvert_exporter": "python",
   "pygments_lexer": "ipython3",
   "version": "3.6.1"
  }
 },
 "nbformat": 4,
 "nbformat_minor": 2
}
