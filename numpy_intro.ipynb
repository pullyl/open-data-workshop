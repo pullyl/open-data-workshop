{
 "cells": [
  {
   "cell_type": "markdown",
   "metadata": {},
   "source": [
    "This is a simple Python notebook demonstrating the power of pandas"
   ]
  },
  {
   "cell_type": "code",
   "execution_count": 1,
   "metadata": {},
   "outputs": [
    {
     "name": "stdout",
     "output_type": "stream",
     "text": [
      "Imported 392744 rows\n"
     ]
    }
   ],
   "source": [
    "import pandas as pd\n",
    "\n",
    "df = pd.read_csv('2018_General_Election_Returns.csv')\n",
    "\n",
    "len_df = len(df)\n",
    "\n",
    "print(f'Imported {len_df} rows')"
   ]
  },
  {
   "cell_type": "code",
   "execution_count": 2,
   "metadata": {},
   "outputs": [
    {
     "name": "stdout",
     "output_type": "stream",
     "text": [
      "Found 173 offices\n"
     ]
    }
   ],
   "source": [
    "#printing all offices\n",
    "offices = list(df['Office'].drop_duplicates())\n",
    "num_offices = len(offices)\n",
    "print(f'Found {num_offices} offices')"
   ]
  },
  {
   "cell_type": "code",
   "execution_count": 3,
   "metadata": {},
   "outputs": [
    {
     "name": "stdout",
     "output_type": "stream",
     "text": [
      "Total votes: Cruz, O'Rourke, Dikeman\n",
      "Total votes: 8369175\n"
     ]
    }
   ],
   "source": [
    "#Finding results for first office\n",
    "first_office = offices[0]\n",
    "\n",
    "office_df = df[df['Office'] == first_office]\n",
    "\n",
    "#Printing who ran in that office\n",
    "candidates = ', '.join(list(office_df['Name'].drop_duplicates()))\n",
    "print(f'Total votes: {candidates}')\n",
    "\n",
    "#Printing total votes\n",
    "total_votes = office_df['Votes'].sum()\n",
    "print(f'Total votes: {total_votes}')"
   ]
  },
  {
   "cell_type": "code",
   "execution_count": null,
   "metadata": {},
   "outputs": [],
   "source": []
  }
 ],
 "metadata": {
  "kernelspec": {
   "display_name": "Python 3",
   "language": "python",
   "name": "python3"
  },
  "language_info": {
   "codemirror_mode": {
    "name": "ipython",
    "version": 3
   },
   "file_extension": ".py",
   "mimetype": "text/x-python",
   "name": "python",
   "nbconvert_exporter": "python",
   "pygments_lexer": "ipython3",
   "version": "3.6.1"
  }
 },
 "nbformat": 4,
 "nbformat_minor": 2
}
